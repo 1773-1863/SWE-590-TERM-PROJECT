{
  "cells": [
    {
      "cell_type": "code",
      "execution_count": null,
      "metadata": {
        "id": "JDTNPpDjgUAX"
      },
      "outputs": [],
      "source": [
        "import pandas as pd\n",
        "from google.colab import drive\n",
        "import matplotlib.pyplot as plt\n",
        "import cv2\n",
        "import os\n",
        "from tqdm import tqdm_notebook as tqdm\n",
        "import numpy as np\n"
      ]
    },
    {
      "cell_type": "code",
      "execution_count": null,
      "metadata": {
        "colab": {
          "base_uri": "https://localhost:8080/"
        },
        "id": "3rmIjJJFgaAH",
        "outputId": "e268150d-65f8-4efa-e449-51e9f686eb9b"
      },
      "outputs": [
        {
          "output_type": "stream",
          "name": "stdout",
          "text": [
            "Drive already mounted at /content/gdrive; to attempt to forcibly remount, call drive.mount(\"/content/gdrive\", force_remount=True).\n"
          ]
        }
      ],
      "source": [
        "drive.mount(\"/content/gdrive\")\n",
        "path = \"/content/gdrive/MyDrive/aptos2019-blindness-detection/\"\n",
        "df = pd.read_csv(path+\"train.csv\", sep=\",\")\n",
        "train_images = os.listdir(path + \"train_images\")"
      ]
    },
    {
      "cell_type": "code",
      "source": [
        "number_of_train_image = 200\n",
        "steps_per_epoch = int(number_of_train_image * 0.20)"
      ],
      "metadata": {
        "id": "-RPwSaQHLumW"
      },
      "execution_count": null,
      "outputs": []
    },
    {
      "cell_type": "code",
      "execution_count": null,
      "metadata": {
        "id": "_PQ4ueRygvCx"
      },
      "outputs": [],
      "source": [
        "img_list = []"
      ]
    },
    {
      "cell_type": "code",
      "execution_count": null,
      "metadata": {
        "colab": {
          "base_uri": "https://localhost:8080/",
          "height": 101,
          "referenced_widgets": [
            "a28f089f73d44a588131a0088036ea27",
            "e4c4517700f044219cae3552ab12ee84",
            "90cb7df2e16042a395f0df940c11f76f",
            "b05f85fa3d20459bb5c356d185426c40",
            "70ae5161d91e4ae28081a516c06ced2d",
            "f83aa48382a34130bb582bbd0bc6330f",
            "0be09b27e68647c394706b3f86891e62",
            "98c8b5c201734048b88b8cadd95dc19e",
            "bb29b0197f6b454eafae53e73ec813ff",
            "060ac47b0c3b442fa3b052bb7aeece0b",
            "050a8658501c4d0882d608411dcc1995"
          ]
        },
        "id": "j253noxRgmAq",
        "outputId": "162696fb-36b8-406d-c5ec-13ee5be8dc28"
      },
      "outputs": [
        {
          "output_type": "stream",
          "name": "stderr",
          "text": [
            "<ipython-input-7-11af53fd5d74>:1: TqdmDeprecationWarning: This function will be removed in tqdm==5.0.0\n",
            "Please use `tqdm.notebook.tqdm` instead of `tqdm.tqdm_notebook`\n",
            "  for i in tqdm(train_images[:number_of_train_image]):\n"
          ]
        },
        {
          "output_type": "display_data",
          "data": {
            "text/plain": [
              "  0%|          | 0/200 [00:00<?, ?it/s]"
            ],
            "application/vnd.jupyter.widget-view+json": {
              "version_major": 2,
              "version_minor": 0,
              "model_id": "a28f089f73d44a588131a0088036ea27"
            }
          },
          "metadata": {}
        }
      ],
      "source": [
        "for i in tqdm(train_images[:number_of_train_image]):\n",
        "  img = cv2.imread(path + \"train_images/\"+ i)\n",
        "  img = cv2.resize(img, (80,80))\n",
        "  img = cv2.cvtColor(img, cv2.COLOR_BGR2RGB)\n",
        "  copy = img.copy()\n",
        "  copy = cv2.cvtColor(copy, cv2.COLOR_RGB2GRAY)\n",
        "  blurred = cv2.GaussianBlur(copy,(5,5), 0)\n",
        "  thresh = cv2.threshold(blurred, 18, 255, cv2.THRESH_BINARY)[1]\n",
        "  contour = cv2.findContours(thresh.copy(), cv2.RETR_EXTERNAL, cv2.CHAIN_APPROX_SIMPLE)\n",
        "  contour = contour[0][0]\n",
        "  contour = contour[:,0,:]\n",
        "  x1 = tuple(contour[contour[:,0].argmin()])[0]\n",
        "  y1 = tuple(contour[contour[:,1].argmin()])[1]\n",
        "  x2 = tuple(contour[contour[:,0].argmax()])[0]\n",
        "  y2 = tuple(contour[contour[:,1].argmax()])[1]\n",
        "  x = int(x2-x1)*4//100\n",
        "  y = int(y2-y1)*5//100\n",
        "  copy_2 = img.copy()\n",
        "  if x2-x1 > 100 and y2-y1 > 100:\n",
        "    copy_2 = copy_2[y1+y:y2-y, x1+x:x2-x]\n",
        "    copy_2 = cv2.resize(copy_2, (80,80))\n",
        "  lab = cv2.cvtColor(copy_2, cv2.COLOR_RGB2LAB)\n",
        "  l, a, b = cv2.split(lab)\n",
        "  clahe = cv2.createCLAHE(clipLimit=5.0, tileGridSize=((8,8)))\n",
        "  cl = clahe.apply(l)\n",
        "  l_img = cv2.merge((cl, a, b))\n",
        "  last = cv2.cvtColor(l_img, cv2.COLOR_LAB2RGB)\n",
        "  med_last = cv2.medianBlur(last, 3)\n",
        "  background = cv2.medianBlur(last, 37)\n",
        "  mask = cv2.addWeighted(med_last,1, background,-1,255)\n",
        "  final_img = cv2.bitwise_and(mask, med_last)\n",
        "  img_list.append(final_img)\n",
        "# fig = plt.figure(figsize=(20,12))\n",
        "# for i in range (12):\n",
        "#   img = img_list[i]\n",
        "#   fig.add_subplot(3, 4, i+1)\n",
        "#   plt.imshow(img)\n",
        "\n",
        "# plt.tight_layout()"
      ]
    },
    {
      "cell_type": "code",
      "execution_count": null,
      "metadata": {
        "id": "uwUhWc8eg4dz"
      },
      "outputs": [],
      "source": [
        "y_train = pd.get_dummies(df[\"diagnosis\"]).values\n",
        "y_train_last = np.ones(y_train.shape, dtype=\"uint8\")\n",
        "y_train_last[:,4] = y_train[:,4]\n",
        "for i in range(3, -1, -1):\n",
        "  y_train_last[:,i] = np.logical_or(y_train[:,i], y_train_last[:,i+1])"
      ]
    },
    {
      "cell_type": "code",
      "execution_count": null,
      "metadata": {
        "id": "TwzksOFHg6WX"
      },
      "outputs": [],
      "source": [
        "x_train = np.array(img_list)"
      ]
    },
    {
      "cell_type": "code",
      "execution_count": null,
      "metadata": {
        "id": "RQCvgBu-g9lC"
      },
      "outputs": [],
      "source": [
        "from sklearn.model_selection import train_test_split"
      ]
    },
    {
      "cell_type": "code",
      "execution_count": null,
      "metadata": {
        "id": "wwLppx1VhFzE"
      },
      "outputs": [],
      "source": [
        "x_train, x_val, y_train, y_val = train_test_split(\n",
        "    x_train,\n",
        "    y_train_last[:number_of_train_image],\n",
        "    test_size = 0.15,\n",
        "    random_state = 2019,\n",
        "    shuffle = True\n",
        ")"
      ]
    },
    {
      "cell_type": "code",
      "execution_count": null,
      "metadata": {
        "id": "seVgs5hHhMmE"
      },
      "outputs": [],
      "source": [
        "from keras.preprocessing.image import ImageDataGenerator"
      ]
    },
    {
      "cell_type": "code",
      "execution_count": null,
      "metadata": {
        "id": "7rtfZdoFhPK_"
      },
      "outputs": [],
      "source": [
        "datagen = ImageDataGenerator(horizontal_flip=True, vertical_flip=True)"
      ]
    },
    {
      "cell_type": "code",
      "execution_count": null,
      "metadata": {
        "id": "MzjdMzQBhRq3"
      },
      "outputs": [],
      "source": [
        "data_generator = datagen.flow(x_train, y_train, batch_size=2, seed=2020)"
      ]
    },
    {
      "cell_type": "code",
      "execution_count": null,
      "metadata": {
        "colab": {
          "base_uri": "https://localhost:8080/",
          "height": 1000
        },
        "id": "gbk-gNh9hUL2",
        "outputId": "7328e14d-a18f-4abb-c096-0d872a0eb88a"
      },
      "outputs": [
        {
          "output_type": "stream",
          "name": "stdout",
          "text": [
            "Looking in indexes: https://pypi.org/simple, https://us-python.pkg.dev/colab-wheels/public/simple/\n",
            "Collecting efficientnet\n",
            "  Downloading efficientnet-1.1.1-py3-none-any.whl (18 kB)\n",
            "Requirement already satisfied: scikit-image in /usr/local/lib/python3.8/dist-packages (from efficientnet) (0.18.3)\n",
            "Collecting keras-applications<=1.0.8,>=1.0.7\n",
            "  Downloading Keras_Applications-1.0.8-py3-none-any.whl (50 kB)\n",
            "\u001b[K     |████████████████████████████████| 50 kB 5.5 MB/s \n",
            "\u001b[?25hRequirement already satisfied: numpy>=1.9.1 in /usr/local/lib/python3.8/dist-packages (from keras-applications<=1.0.8,>=1.0.7->efficientnet) (1.21.6)\n",
            "Requirement already satisfied: h5py in /usr/local/lib/python3.8/dist-packages (from keras-applications<=1.0.8,>=1.0.7->efficientnet) (3.1.0)\n",
            "Requirement already satisfied: matplotlib!=3.0.0,>=2.0.0 in /usr/local/lib/python3.8/dist-packages (from scikit-image->efficientnet) (3.2.2)\n",
            "Requirement already satisfied: pillow!=7.1.0,!=7.1.1,>=4.3.0 in /usr/local/lib/python3.8/dist-packages (from scikit-image->efficientnet) (7.1.2)\n",
            "Requirement already satisfied: networkx>=2.0 in /usr/local/lib/python3.8/dist-packages (from scikit-image->efficientnet) (2.8.8)\n",
            "Requirement already satisfied: scipy>=1.0.1 in /usr/local/lib/python3.8/dist-packages (from scikit-image->efficientnet) (1.7.3)\n",
            "Requirement already satisfied: imageio>=2.3.0 in /usr/local/lib/python3.8/dist-packages (from scikit-image->efficientnet) (2.9.0)\n",
            "Requirement already satisfied: PyWavelets>=1.1.1 in /usr/local/lib/python3.8/dist-packages (from scikit-image->efficientnet) (1.4.1)\n",
            "Requirement already satisfied: tifffile>=2019.7.26 in /usr/local/lib/python3.8/dist-packages (from scikit-image->efficientnet) (2022.10.10)\n",
            "Requirement already satisfied: python-dateutil>=2.1 in /usr/local/lib/python3.8/dist-packages (from matplotlib!=3.0.0,>=2.0.0->scikit-image->efficientnet) (2.8.2)\n",
            "Requirement already satisfied: pyparsing!=2.0.4,!=2.1.2,!=2.1.6,>=2.0.1 in /usr/local/lib/python3.8/dist-packages (from matplotlib!=3.0.0,>=2.0.0->scikit-image->efficientnet) (3.0.9)\n",
            "Requirement already satisfied: cycler>=0.10 in /usr/local/lib/python3.8/dist-packages (from matplotlib!=3.0.0,>=2.0.0->scikit-image->efficientnet) (0.11.0)\n",
            "Requirement already satisfied: kiwisolver>=1.0.1 in /usr/local/lib/python3.8/dist-packages (from matplotlib!=3.0.0,>=2.0.0->scikit-image->efficientnet) (1.4.4)\n",
            "Requirement already satisfied: six>=1.5 in /usr/local/lib/python3.8/dist-packages (from python-dateutil>=2.1->matplotlib!=3.0.0,>=2.0.0->scikit-image->efficientnet) (1.15.0)\n",
            "Installing collected packages: keras-applications, efficientnet\n",
            "Successfully installed efficientnet-1.1.1 keras-applications-1.0.8\n",
            "Looking in indexes: https://pypi.org/simple, https://us-python.pkg.dev/colab-wheels/public/simple/\n",
            "Collecting tensorflow==2.6.0\n",
            "  Downloading tensorflow-2.6.0-cp38-cp38-manylinux2010_x86_64.whl (458.4 MB)\n",
            "\u001b[K     |████████████████████████████████| 458.4 MB 27 kB/s \n",
            "\u001b[?25hRequirement already satisfied: keras-preprocessing~=1.1.2 in /usr/local/lib/python3.8/dist-packages (from tensorflow==2.6.0) (1.1.2)\n",
            "Collecting termcolor~=1.1.0\n",
            "  Downloading termcolor-1.1.0.tar.gz (3.9 kB)\n",
            "Requirement already satisfied: astunparse~=1.6.3 in /usr/local/lib/python3.8/dist-packages (from tensorflow==2.6.0) (1.6.3)\n",
            "Collecting typing-extensions~=3.7.4\n",
            "  Downloading typing_extensions-3.7.4.3-py3-none-any.whl (22 kB)\n",
            "Requirement already satisfied: wheel~=0.35 in /usr/local/lib/python3.8/dist-packages (from tensorflow==2.6.0) (0.38.4)\n",
            "Requirement already satisfied: tensorboard~=2.6 in /usr/local/lib/python3.8/dist-packages (from tensorflow==2.6.0) (2.9.1)\n",
            "Requirement already satisfied: protobuf>=3.9.2 in /usr/local/lib/python3.8/dist-packages (from tensorflow==2.6.0) (3.19.6)\n",
            "Requirement already satisfied: flatbuffers~=1.12.0 in /usr/local/lib/python3.8/dist-packages (from tensorflow==2.6.0) (1.12)\n",
            "Requirement already satisfied: keras~=2.6 in /usr/local/lib/python3.8/dist-packages (from tensorflow==2.6.0) (2.9.0)\n",
            "Collecting absl-py~=0.10\n",
            "  Downloading absl_py-0.15.0-py3-none-any.whl (132 kB)\n",
            "\u001b[K     |████████████████████████████████| 132 kB 47.0 MB/s \n",
            "\u001b[?25hCollecting clang~=5.0\n",
            "  Downloading clang-5.0.tar.gz (30 kB)\n",
            "Requirement already satisfied: grpcio<2.0,>=1.37.0 in /usr/local/lib/python3.8/dist-packages (from tensorflow==2.6.0) (1.51.1)\n",
            "Requirement already satisfied: tensorflow-estimator~=2.6 in /usr/local/lib/python3.8/dist-packages (from tensorflow==2.6.0) (2.9.0)\n",
            "Requirement already satisfied: h5py~=3.1.0 in /usr/local/lib/python3.8/dist-packages (from tensorflow==2.6.0) (3.1.0)\n",
            "Requirement already satisfied: google-pasta~=0.2 in /usr/local/lib/python3.8/dist-packages (from tensorflow==2.6.0) (0.2.0)\n",
            "Collecting wrapt~=1.12.1\n",
            "  Downloading wrapt-1.12.1.tar.gz (27 kB)\n",
            "Requirement already satisfied: gast==0.4.0 in /usr/local/lib/python3.8/dist-packages (from tensorflow==2.6.0) (0.4.0)\n",
            "Requirement already satisfied: six~=1.15.0 in /usr/local/lib/python3.8/dist-packages (from tensorflow==2.6.0) (1.15.0)\n",
            "Collecting numpy~=1.19.2\n",
            "  Downloading numpy-1.19.5-cp38-cp38-manylinux2010_x86_64.whl (14.9 MB)\n",
            "\u001b[K     |████████████████████████████████| 14.9 MB 28.7 MB/s \n",
            "\u001b[?25hRequirement already satisfied: opt-einsum~=3.3.0 in /usr/local/lib/python3.8/dist-packages (from tensorflow==2.6.0) (3.3.0)\n",
            "Requirement already satisfied: google-auth<3,>=1.6.3 in /usr/local/lib/python3.8/dist-packages (from tensorboard~=2.6->tensorflow==2.6.0) (2.15.0)\n",
            "Requirement already satisfied: google-auth-oauthlib<0.5,>=0.4.1 in /usr/local/lib/python3.8/dist-packages (from tensorboard~=2.6->tensorflow==2.6.0) (0.4.6)\n",
            "Requirement already satisfied: setuptools>=41.0.0 in /usr/local/lib/python3.8/dist-packages (from tensorboard~=2.6->tensorflow==2.6.0) (57.4.0)\n",
            "Requirement already satisfied: tensorboard-plugin-wit>=1.6.0 in /usr/local/lib/python3.8/dist-packages (from tensorboard~=2.6->tensorflow==2.6.0) (1.8.1)\n",
            "Requirement already satisfied: markdown>=2.6.8 in /usr/local/lib/python3.8/dist-packages (from tensorboard~=2.6->tensorflow==2.6.0) (3.4.1)\n",
            "Requirement already satisfied: requests<3,>=2.21.0 in /usr/local/lib/python3.8/dist-packages (from tensorboard~=2.6->tensorflow==2.6.0) (2.23.0)\n",
            "Requirement already satisfied: tensorboard-data-server<0.7.0,>=0.6.0 in /usr/local/lib/python3.8/dist-packages (from tensorboard~=2.6->tensorflow==2.6.0) (0.6.1)\n",
            "Requirement already satisfied: werkzeug>=1.0.1 in /usr/local/lib/python3.8/dist-packages (from tensorboard~=2.6->tensorflow==2.6.0) (1.0.1)\n",
            "Requirement already satisfied: pyasn1-modules>=0.2.1 in /usr/local/lib/python3.8/dist-packages (from google-auth<3,>=1.6.3->tensorboard~=2.6->tensorflow==2.6.0) (0.2.8)\n",
            "Requirement already satisfied: rsa<5,>=3.1.4 in /usr/local/lib/python3.8/dist-packages (from google-auth<3,>=1.6.3->tensorboard~=2.6->tensorflow==2.6.0) (4.9)\n",
            "Requirement already satisfied: cachetools<6.0,>=2.0.0 in /usr/local/lib/python3.8/dist-packages (from google-auth<3,>=1.6.3->tensorboard~=2.6->tensorflow==2.6.0) (5.2.0)\n",
            "Requirement already satisfied: requests-oauthlib>=0.7.0 in /usr/local/lib/python3.8/dist-packages (from google-auth-oauthlib<0.5,>=0.4.1->tensorboard~=2.6->tensorflow==2.6.0) (1.3.1)\n",
            "Requirement already satisfied: importlib-metadata>=4.4 in /usr/local/lib/python3.8/dist-packages (from markdown>=2.6.8->tensorboard~=2.6->tensorflow==2.6.0) (5.1.0)\n",
            "Requirement already satisfied: zipp>=0.5 in /usr/local/lib/python3.8/dist-packages (from importlib-metadata>=4.4->markdown>=2.6.8->tensorboard~=2.6->tensorflow==2.6.0) (3.11.0)\n",
            "Requirement already satisfied: pyasn1<0.5.0,>=0.4.6 in /usr/local/lib/python3.8/dist-packages (from pyasn1-modules>=0.2.1->google-auth<3,>=1.6.3->tensorboard~=2.6->tensorflow==2.6.0) (0.4.8)\n",
            "Requirement already satisfied: idna<3,>=2.5 in /usr/local/lib/python3.8/dist-packages (from requests<3,>=2.21.0->tensorboard~=2.6->tensorflow==2.6.0) (2.10)\n",
            "Requirement already satisfied: chardet<4,>=3.0.2 in /usr/local/lib/python3.8/dist-packages (from requests<3,>=2.21.0->tensorboard~=2.6->tensorflow==2.6.0) (3.0.4)\n",
            "Requirement already satisfied: urllib3!=1.25.0,!=1.25.1,<1.26,>=1.21.1 in /usr/local/lib/python3.8/dist-packages (from requests<3,>=2.21.0->tensorboard~=2.6->tensorflow==2.6.0) (1.24.3)\n",
            "Requirement already satisfied: certifi>=2017.4.17 in /usr/local/lib/python3.8/dist-packages (from requests<3,>=2.21.0->tensorboard~=2.6->tensorflow==2.6.0) (2022.12.7)\n",
            "Requirement already satisfied: oauthlib>=3.0.0 in /usr/local/lib/python3.8/dist-packages (from requests-oauthlib>=0.7.0->google-auth-oauthlib<0.5,>=0.4.1->tensorboard~=2.6->tensorflow==2.6.0) (3.2.2)\n",
            "Building wheels for collected packages: clang, termcolor, wrapt\n",
            "  Building wheel for clang (setup.py) ... \u001b[?25l\u001b[?25hdone\n",
            "  Created wheel for clang: filename=clang-5.0-py3-none-any.whl size=30694 sha256=e0bbdac0f1c8aaebb7804f24118d9bac0624067fd1f70f07a2208eea3162c753\n",
            "  Stored in directory: /root/.cache/pip/wheels/f1/60/77/22b9b5887bd47801796a856f47650d9789c74dc3161a26d608\n",
            "  Building wheel for termcolor (setup.py) ... \u001b[?25l\u001b[?25hdone\n",
            "  Created wheel for termcolor: filename=termcolor-1.1.0-py3-none-any.whl size=4849 sha256=fa9bd8b1a2f2a35e8dd6cfc9378786731e5843827b7bef061ec4fc97f5b8fcae\n",
            "  Stored in directory: /root/.cache/pip/wheels/a0/16/9c/5473df82468f958445479c59e784896fa24f4a5fc024b0f501\n",
            "  Building wheel for wrapt (setup.py) ... \u001b[?25l\u001b[?25hdone\n",
            "  Created wheel for wrapt: filename=wrapt-1.12.1-cp38-cp38-linux_x86_64.whl size=72348 sha256=f9a210518166e4a8ca6cec6324857aa72843a00de23e75071f1226cea925cd19\n",
            "  Stored in directory: /root/.cache/pip/wheels/5f/fd/9e/b6cf5890494cb8ef0b5eaff72e5d55a70fb56316007d6dfe73\n",
            "Successfully built clang termcolor wrapt\n",
            "Installing collected packages: numpy, absl-py, wrapt, typing-extensions, termcolor, clang, tensorflow\n",
            "  Attempting uninstall: numpy\n",
            "    Found existing installation: numpy 1.21.6\n",
            "    Uninstalling numpy-1.21.6:\n",
            "      Successfully uninstalled numpy-1.21.6\n",
            "  Attempting uninstall: absl-py\n",
            "    Found existing installation: absl-py 1.3.0\n",
            "    Uninstalling absl-py-1.3.0:\n",
            "      Successfully uninstalled absl-py-1.3.0\n",
            "  Attempting uninstall: wrapt\n",
            "    Found existing installation: wrapt 1.14.1\n",
            "    Uninstalling wrapt-1.14.1:\n",
            "      Successfully uninstalled wrapt-1.14.1\n",
            "  Attempting uninstall: typing-extensions\n",
            "    Found existing installation: typing-extensions 4.4.0\n",
            "    Uninstalling typing-extensions-4.4.0:\n",
            "      Successfully uninstalled typing-extensions-4.4.0\n",
            "  Attempting uninstall: termcolor\n",
            "    Found existing installation: termcolor 2.1.1\n",
            "    Uninstalling termcolor-2.1.1:\n",
            "      Successfully uninstalled termcolor-2.1.1\n",
            "  Attempting uninstall: tensorflow\n",
            "    Found existing installation: tensorflow 2.9.2\n",
            "    Uninstalling tensorflow-2.9.2:\n",
            "      Successfully uninstalled tensorflow-2.9.2\n",
            "\u001b[31mERROR: pip's dependency resolver does not currently take into account all the packages that are installed. This behaviour is the source of the following dependency conflicts.\n",
            "xarray 2022.12.0 requires numpy>=1.20, but you have numpy 1.19.5 which is incompatible.\n",
            "xarray-einstats 0.4.0 requires numpy>=1.20, but you have numpy 1.19.5 which is incompatible.\n",
            "pydantic 1.10.2 requires typing-extensions>=4.1.0, but you have typing-extensions 3.7.4.3 which is incompatible.\n",
            "jaxlib 0.3.25+cuda11.cudnn805 requires numpy>=1.20, but you have numpy 1.19.5 which is incompatible.\n",
            "jax 0.3.25 requires numpy>=1.20, but you have numpy 1.19.5 which is incompatible.\n",
            "cmdstanpy 1.0.8 requires numpy>=1.21, but you have numpy 1.19.5 which is incompatible.\u001b[0m\n",
            "Successfully installed absl-py-0.15.0 clang-5.0 numpy-1.19.5 tensorflow-2.6.0 termcolor-1.1.0 typing-extensions-3.7.4.3 wrapt-1.12.1\n"
          ]
        },
        {
          "output_type": "display_data",
          "data": {
            "application/vnd.colab-display-data+json": {
              "pip_warning": {
                "packages": [
                  "absl",
                  "numpy",
                  "tensorflow",
                  "termcolor",
                  "typing_extensions",
                  "wrapt"
                ]
              }
            }
          },
          "metadata": {}
        },
        {
          "output_type": "stream",
          "name": "stdout",
          "text": [
            "Looking in indexes: https://pypi.org/simple, https://us-python.pkg.dev/colab-wheels/public/simple/\n",
            "Collecting keras~=2.6.0\n",
            "  Downloading keras-2.6.0-py2.py3-none-any.whl (1.3 MB)\n",
            "\u001b[K     |████████████████████████████████| 1.3 MB 16.3 MB/s \n",
            "\u001b[?25hInstalling collected packages: keras\n",
            "  Attempting uninstall: keras\n",
            "    Found existing installation: keras 2.9.0\n",
            "    Uninstalling keras-2.9.0:\n",
            "      Successfully uninstalled keras-2.9.0\n",
            "Successfully installed keras-2.6.0\n"
          ]
        },
        {
          "output_type": "display_data",
          "data": {
            "application/vnd.colab-display-data+json": {
              "pip_warning": {
                "packages": [
                  "keras"
                ]
              }
            }
          },
          "metadata": {}
        }
      ],
      "source": [
        "# transfer learning\n",
        "# EfficientNet - B5 Model\n",
        "!pip install efficientnet\n",
        "!pip install tensorflow==2.6.0\n",
        "!pip install keras~=2.6.0"
      ]
    },
    {
      "cell_type": "code",
      "execution_count": null,
      "metadata": {
        "id": "utypSVl1hYJG"
      },
      "outputs": [],
      "source": [
        "import tensorflow as tf\n",
        "# from tensorflow.keras.applications.efficientnet import EfficientNetB5"
      ]
    },
    {
      "cell_type": "code",
      "source": [
        "model = tf.keras.applications.EfficientNetB5()\n",
        "model_2 = tf.keras.applications.EfficientNetB5(weights='imagenet',include_top=False, input_shape=(80,80,3))"
      ],
      "metadata": {
        "id": "aZYElkZz5kgY",
        "colab": {
          "base_uri": "https://localhost:8080/"
        },
        "outputId": "cda6dc3f-79b6-49bf-ae24-8910c9df4cb6"
      },
      "execution_count": null,
      "outputs": [
        {
          "output_type": "stream",
          "name": "stdout",
          "text": [
            "Downloading data from https://storage.googleapis.com/keras-applications/efficientnetb5.h5\n",
            "123469824/123465288 [==============================] - 5s 0us/step\n",
            "123478016/123465288 [==============================] - 5s 0us/step\n",
            "Downloading data from https://storage.googleapis.com/keras-applications/efficientnetb5_notop.h5\n",
            "115269632/115263384 [==============================] - 4s 0us/step\n",
            "115277824/115263384 [==============================] - 4s 0us/step\n"
          ]
        }
      ]
    },
    {
      "cell_type": "code",
      "execution_count": null,
      "metadata": {
        "id": "yZ_NXa8she8Y"
      },
      "outputs": [],
      "source": [
        "# model = tf.keras.applications.efficientnet.EfficientNetB5()\n",
        "# model_2 = tf.keras.applications.efficientnet.EfficientNetB5(weights='imagenet',include_top=False, input_shape=(400,400,3))"
      ]
    },
    {
      "cell_type": "code",
      "execution_count": null,
      "metadata": {
        "id": "iJIDVT5wirfd"
      },
      "outputs": [],
      "source": [
        "from tensorflow import keras, saved_model\n",
        "from tensorflow.keras import layers"
      ]
    },
    {
      "cell_type": "code",
      "execution_count": null,
      "metadata": {
        "id": "B9APHJG4i4mJ"
      },
      "outputs": [],
      "source": [
        "model_keras = keras.Sequential()"
      ]
    },
    {
      "cell_type": "code",
      "execution_count": null,
      "metadata": {
        "id": "WTfzugc2lM3R"
      },
      "outputs": [],
      "source": [
        "model_keras.add(model_2)"
      ]
    },
    {
      "cell_type": "code",
      "execution_count": null,
      "metadata": {
        "id": "NYM1gNGKjYbS"
      },
      "outputs": [],
      "source": [
        "model_keras.add(layers.GlobalAveragePooling2D())\n",
        "model_keras.add(layers.Dropout(0.5))\n",
        "model_keras.add(layers.Dense(5, activation='sigmoid'))"
      ]
    },
    {
      "cell_type": "code",
      "execution_count": null,
      "metadata": {
        "id": "emm2yU7Dlhba"
      },
      "outputs": [],
      "source": [
        "opti = tf.optimizers.Adam(learning_rate=0.00005)"
      ]
    },
    {
      "cell_type": "code",
      "execution_count": null,
      "metadata": {
        "id": "coecSN01mMnd"
      },
      "outputs": [],
      "source": [
        "model_keras.compile(loss='binary_crossentropy', optimizer=opti, metrics=['accuracy'])"
      ]
    },
    {
      "cell_type": "code",
      "execution_count": null,
      "metadata": {
        "id": "ItYVn0n1mPk2"
      },
      "outputs": [],
      "source": [
        "lr = tf.keras.callbacks.ReduceLROnPlateau(monitor='val_loss',\n",
        "                                          patience=3,\n",
        "                                          verbose=1,\n",
        "                                          mode='auto',\n",
        "                                          factor=0.25,\n",
        "                                          min_lr=0.000001)"
      ]
    },
    {
      "cell_type": "code",
      "execution_count": null,
      "metadata": {
        "colab": {
          "base_uri": "https://localhost:8080/"
        },
        "id": "zSUPBgaNmrWF",
        "outputId": "3a3bd405-13ad-450b-c6fc-d9d05eb8cd58"
      },
      "outputs": [
        {
          "output_type": "stream",
          "name": "stdout",
          "text": [
            "Epoch 1/20\n",
            "40/40 [==============================] - 26s 654ms/step - loss: 0.3975 - accuracy: 0.9875 - val_loss: 0.6583 - val_accuracy: 0.6667\n",
            "Epoch 2/20\n",
            "40/40 [==============================] - 26s 652ms/step - loss: 0.4039 - accuracy: 0.9875 - val_loss: 0.6640 - val_accuracy: 0.5667\n",
            "Epoch 3/20\n",
            "40/40 [==============================] - 26s 640ms/step - loss: 0.4057 - accuracy: 1.0000 - val_loss: 0.6552 - val_accuracy: 0.6667\n",
            "Epoch 4/20\n",
            "40/40 [==============================] - 25s 637ms/step - loss: 0.4006 - accuracy: 1.0000 - val_loss: 0.6540 - val_accuracy: 0.6333\n",
            "Epoch 5/20\n",
            "40/40 [==============================] - 30s 751ms/step - loss: 0.3687 - accuracy: 1.0000 - val_loss: 0.6396 - val_accuracy: 0.7333\n",
            "Epoch 6/20\n",
            "40/40 [==============================] - 27s 666ms/step - loss: 0.3990 - accuracy: 1.0000 - val_loss: 0.6329 - val_accuracy: 0.8667\n",
            "Epoch 7/20\n",
            "40/40 [==============================] - 25s 633ms/step - loss: 0.4184 - accuracy: 1.0000 - val_loss: 0.6244 - val_accuracy: 0.8000\n",
            "Epoch 8/20\n",
            "40/40 [==============================] - 26s 639ms/step - loss: 0.3894 - accuracy: 1.0000 - val_loss: 0.6267 - val_accuracy: 0.7667\n",
            "Epoch 9/20\n",
            "40/40 [==============================] - 25s 633ms/step - loss: 0.4092 - accuracy: 1.0000 - val_loss: 0.6292 - val_accuracy: 0.8333\n",
            "Epoch 10/20\n",
            "40/40 [==============================] - 28s 709ms/step - loss: 0.4005 - accuracy: 1.0000 - val_loss: 0.6059 - val_accuracy: 0.9333\n",
            "Epoch 11/20\n",
            "40/40 [==============================] - 25s 638ms/step - loss: 0.3804 - accuracy: 1.0000 - val_loss: 0.5972 - val_accuracy: 0.9333\n",
            "Epoch 12/20\n",
            "40/40 [==============================] - 32s 798ms/step - loss: 0.3533 - accuracy: 1.0000 - val_loss: 0.5884 - val_accuracy: 0.9000\n",
            "Epoch 13/20\n",
            "40/40 [==============================] - 25s 636ms/step - loss: 0.3767 - accuracy: 1.0000 - val_loss: 0.5992 - val_accuracy: 0.9667\n",
            "Epoch 14/20\n",
            "40/40 [==============================] - 25s 637ms/step - loss: 0.3696 - accuracy: 1.0000 - val_loss: 0.5970 - val_accuracy: 0.9667\n",
            "Epoch 15/20\n",
            "40/40 [==============================] - 25s 634ms/step - loss: 0.3868 - accuracy: 1.0000 - val_loss: 0.6071 - val_accuracy: 0.9000\n",
            "\n",
            "Epoch 00015: ReduceLROnPlateau reducing learning rate to 1.249999968422344e-05.\n",
            "Epoch 16/20\n",
            "40/40 [==============================] - 25s 637ms/step - loss: 0.3641 - accuracy: 1.0000 - val_loss: 0.6162 - val_accuracy: 0.9000\n",
            "Epoch 17/20\n",
            "40/40 [==============================] - 26s 639ms/step - loss: 0.3439 - accuracy: 1.0000 - val_loss: 0.6221 - val_accuracy: 0.8667\n",
            "Epoch 18/20\n",
            "40/40 [==============================] - 32s 799ms/step - loss: 0.3386 - accuracy: 1.0000 - val_loss: 0.6243 - val_accuracy: 0.8667\n",
            "\n",
            "Epoch 00018: ReduceLROnPlateau reducing learning rate to 3.12499992105586e-06.\n",
            "Epoch 19/20\n",
            "40/40 [==============================] - 26s 642ms/step - loss: 0.3661 - accuracy: 1.0000 - val_loss: 0.6222 - val_accuracy: 0.8667\n",
            "Epoch 20/20\n",
            "40/40 [==============================] - 25s 632ms/step - loss: 0.3429 - accuracy: 1.0000 - val_loss: 0.6242 - val_accuracy: 0.8667\n"
          ]
        },
        {
          "output_type": "execute_result",
          "data": {
            "text/plain": [
              "<keras.callbacks.History at 0x7fbea92b5e20>"
            ]
          },
          "metadata": {},
          "execution_count": 28
        }
      ],
      "source": [
        "model_keras.fit(data_generator,\n",
        "                steps_per_epoch = steps_per_epoch,\n",
        "                epochs=15,\n",
        "                validation_data = (x_val, y_val),\n",
        "                callbacks=[lr])"
      ]
    },
    {
      "cell_type": "code",
      "execution_count": null,
      "metadata": {
        "colab": {
          "base_uri": "https://localhost:8080/"
        },
        "id": "hnmm_Eb1pNPD",
        "outputId": "597b9777-08e3-4aaa-fa6e-a889b6c9ea1b"
      },
      "outputs": [
        {
          "output_type": "stream",
          "name": "stdout",
          "text": [
            "Test accuarcy: 86.67%\n"
          ]
        }
      ],
      "source": [
        "score = model_keras.evaluate(x_val, y_val, verbose=0)\n",
        "print('Test accuarcy: {:0.2f}%'.format(score[1] * 100))"
      ]
    },
    {
      "cell_type": "code",
      "source": [
        "import os"
      ],
      "metadata": {
        "id": "jXiv4X3rJCEg"
      },
      "execution_count": null,
      "outputs": []
    },
    {
      "cell_type": "code",
      "source": [
        "MODEL_DIR='tf_model'\n",
        "version = \"1\"\n",
        "export_path = os.path.join(MODEL_DIR, str(version))"
      ],
      "metadata": {
        "id": "JVp0Hn2OJEKc"
      },
      "execution_count": null,
      "outputs": []
    },
    {
      "cell_type": "code",
      "source": [
        "model_keras.save(export_path, save_format=\"tf\")\n",
        "print('\\nexport_path = {}'.format(export_path))\n",
        "!dir {export_path}"
      ],
      "metadata": {
        "id": "O6L4CVDsJHdm",
        "colab": {
          "base_uri": "https://localhost:8080/"
        },
        "outputId": "49dc2f97-f2f5-4c2e-e1f0-c2c9fe86a396"
      },
      "execution_count": null,
      "outputs": [
        {
          "output_type": "stream",
          "name": "stderr",
          "text": [
            "/usr/local/lib/python3.8/dist-packages/keras/utils/generic_utils.py:494: CustomMaskWarning: Custom mask layers require a config and must override get_config. When loading, the custom mask layer must be passed to the custom_objects argument.\n",
            "  warnings.warn('Custom mask layers require a config and must override '\n"
          ]
        },
        {
          "output_type": "stream",
          "name": "stdout",
          "text": [
            "\n",
            "export_path = tf_model/1\n",
            "assets\tkeras_metadata.pb  saved_model.pb  variables\n"
          ]
        }
      ]
    },
    {
      "cell_type": "code",
      "source": [
        "model_keras.save_weights(\"weights.h5\")"
      ],
      "metadata": {
        "id": "FKwLooY4TQQH"
      },
      "execution_count": null,
      "outputs": []
    },
    {
      "cell_type": "code",
      "source": [
        "model_json=model_keras.to_json()"
      ],
      "metadata": {
        "id": "OCt7kxugTpc3"
      },
      "execution_count": null,
      "outputs": []
    },
    {
      "cell_type": "code",
      "source": [
        "with open (\"/content/model.json\", \"w\") as json_file:\n",
        "  json_file.write(model_json)"
      ],
      "metadata": {
        "id": "JMGiA_alUhOD"
      },
      "execution_count": null,
      "outputs": []
    },
    {
      "cell_type": "code",
      "source": [
        "!zip -r model.zip model/"
      ],
      "metadata": {
        "id": "dZUqMwHm8kph",
        "colab": {
          "base_uri": "https://localhost:8080/"
        },
        "outputId": "407675d8-7b00-4bed-ee70-06341020b052"
      },
      "execution_count": null,
      "outputs": [
        {
          "output_type": "stream",
          "name": "stdout",
          "text": [
            "\tzip warning: name not matched: model/\n",
            "\n",
            "zip error: Nothing to do! (try: zip -r model.zip . -i model/)\n"
          ]
        }
      ]
    },
    {
      "cell_type": "code",
      "source": [
        "def converter_2(i):\n",
        "  img = cv2.imread(i)\n",
        "  img = cv2.resize(img, (80,80))\n",
        "  img = cv2.cvtColor(img, cv2.COLOR_BGR2RGB)\n",
        "  copy = img.copy()\n",
        "  copy = cv2.cvtColor(copy, cv2.COLOR_RGB2GRAY)\n",
        "  blurred = cv2.GaussianBlur(copy,(5,5), 0)\n",
        "  thresh = cv2.threshold(blurred, 18, 255, cv2.THRESH_BINARY)[1]\n",
        "  contour = cv2.findContours(thresh.copy(), cv2.RETR_EXTERNAL, cv2.CHAIN_APPROX_SIMPLE)\n",
        "  contour = contour[0][0]\n",
        "  contour = contour[:,0,:]\n",
        "  x1 = tuple(contour[contour[:,0].argmin()])[0]\n",
        "  y1 = tuple(contour[contour[:,1].argmin()])[1]\n",
        "  x2 = tuple(contour[contour[:,0].argmax()])[0]\n",
        "  y2 = tuple(contour[contour[:,1].argmax()])[1]\n",
        "  x = int(x2-x1)*4//100\n",
        "  y = int(y2-y1)*5//100\n",
        "  copy_2 = img.copy()\n",
        "  if x2-x1 > 100 and y2-y1 > 100:\n",
        "    copy_2 = copy_2[y1+y:y2-y, x1+x:x2-x]\n",
        "    copy_2 = cv2.resize(copy_2, (80,80))\n",
        "  lab = cv2.cvtColor(copy_2, cv2.COLOR_RGB2LAB)\n",
        "  l, a, b = cv2.split(lab)\n",
        "  clahe = cv2.createCLAHE(clipLimit=5.0, tileGridSize=((8,8)))\n",
        "  cl = clahe.apply(l)\n",
        "  l_img = cv2.merge((cl, a, b))\n",
        "  last = cv2.cvtColor(l_img, cv2.COLOR_LAB2RGB)\n",
        "  med_last = cv2.medianBlur(last, 3)\n",
        "  background = cv2.medianBlur(last, 37)\n",
        "  mask = cv2.addWeighted(med_last,1, background,-1,255)\n",
        "  final_img = cv2.bitwise_and(mask, med_last)\n",
        "  \n",
        "  return final_img"
      ],
      "metadata": {
        "id": "dESGbSQr8uU_"
      },
      "execution_count": null,
      "outputs": []
    },
    {
      "cell_type": "code",
      "source": [
        "a = converter_2(\"/content/fundus.jpeg\")"
      ],
      "metadata": {
        "id": "UjmoYiB52nyG"
      },
      "execution_count": null,
      "outputs": []
    },
    {
      "cell_type": "code",
      "execution_count": null,
      "metadata": {
        "id": "bsnE0qMXtBsS",
        "colab": {
          "base_uri": "https://localhost:8080/"
        },
        "outputId": "e925d8a6-11fb-4ff9-b96d-09402d22d4aa"
      },
      "outputs": [
        {
          "output_type": "execute_result",
          "data": {
            "text/plain": [
              "(80, 80, 3)"
            ]
          },
          "metadata": {},
          "execution_count": 33
        }
      ],
      "source": [
        "a.shape"
      ]
    },
    {
      "cell_type": "code",
      "source": [
        "a = np.expand_dims(a, axis=0)"
      ],
      "metadata": {
        "id": "ksRQe94V9env"
      },
      "execution_count": null,
      "outputs": []
    },
    {
      "cell_type": "code",
      "source": [
        "a"
      ],
      "metadata": {
        "id": "T7RjLGHqyITI",
        "colab": {
          "base_uri": "https://localhost:8080/"
        },
        "outputId": "8bcd35cd-c1de-47d7-f63a-45b3199de7fa"
      },
      "execution_count": null,
      "outputs": [
        {
          "output_type": "execute_result",
          "data": {
            "text/plain": [
              "array([[[[11,  7, 10],\n",
              "         [11,  7, 10],\n",
              "         [11,  6, 10],\n",
              "         ...,\n",
              "         [11,  6, 10],\n",
              "         [11,  6, 10],\n",
              "         [11,  6, 10]],\n",
              "\n",
              "        [[11,  6, 10],\n",
              "         [11,  6, 10],\n",
              "         [11,  6, 10],\n",
              "         ...,\n",
              "         [11,  6, 10],\n",
              "         [11,  6, 10],\n",
              "         [11,  6, 10]],\n",
              "\n",
              "        [[11,  6, 10],\n",
              "         [11,  6, 10],\n",
              "         [11,  6, 10],\n",
              "         ...,\n",
              "         [11,  6, 10],\n",
              "         [11,  6, 10],\n",
              "         [11,  6, 10]],\n",
              "\n",
              "        ...,\n",
              "\n",
              "        [[11,  6, 10],\n",
              "         [11,  6, 10],\n",
              "         [11,  6, 10],\n",
              "         ...,\n",
              "         [11,  6, 10],\n",
              "         [11,  6, 10],\n",
              "         [11,  6, 10]],\n",
              "\n",
              "        [[11,  6, 10],\n",
              "         [11,  6, 10],\n",
              "         [11,  6, 10],\n",
              "         ...,\n",
              "         [11,  6, 10],\n",
              "         [11,  6, 10],\n",
              "         [11,  6, 10]],\n",
              "\n",
              "        [[11,  6, 10],\n",
              "         [11,  6, 10],\n",
              "         [11,  6, 10],\n",
              "         ...,\n",
              "         [11,  6, 10],\n",
              "         [11,  6, 10],\n",
              "         [11,  6, 10]]]], dtype=uint8)"
            ]
          },
          "metadata": {},
          "execution_count": 35
        }
      ]
    },
    {
      "cell_type": "code",
      "source": [
        "predicted = model_keras.predict(a)\n",
        "predicted"
      ],
      "metadata": {
        "id": "mTNOFpgT8Jge",
        "colab": {
          "base_uri": "https://localhost:8080/"
        },
        "outputId": "02c8bdfb-1181-4f49-9620-931e0ed043e2"
      },
      "execution_count": null,
      "outputs": [
        {
          "output_type": "execute_result",
          "data": {
            "text/plain": [
              "array([[0.47449797, 0.6171645 , 0.58186203, 0.49321425, 0.46151182]],\n",
              "      dtype=float32)"
            ]
          },
          "metadata": {},
          "execution_count": 36
        }
      ]
    },
    {
      "cell_type": "code",
      "source": [
        "predicted_class = np.argmax(predicted)\n",
        "predicted_class"
      ],
      "metadata": {
        "id": "eBplzJF19mMZ",
        "colab": {
          "base_uri": "https://localhost:8080/"
        },
        "outputId": "93dacdb0-e10e-4eb9-f234-ce767ce6ca59"
      },
      "execution_count": null,
      "outputs": [
        {
          "output_type": "execute_result",
          "data": {
            "text/plain": [
              "1"
            ]
          },
          "metadata": {},
          "execution_count": 37
        }
      ]
    },
    {
      "cell_type": "code",
      "source": [
        "a_list = a.tolist()"
      ],
      "metadata": {
        "id": "K8MYbEs_-rR8"
      },
      "execution_count": null,
      "outputs": []
    },
    {
      "cell_type": "code",
      "source": [
        "json_dict = {\"instances\": a_list}"
      ],
      "metadata": {
        "id": "FsydWIDK0bK8"
      },
      "execution_count": null,
      "outputs": []
    },
    {
      "cell_type": "code",
      "source": [
        "import json\n",
        "with open(\"data_file.json\", \"w\") as write_file:\n",
        "    json.dump(json_dict, write_file)"
      ],
      "metadata": {
        "id": "ZbDjsM5mz_ZH"
      },
      "execution_count": null,
      "outputs": []
    },
    {
      "cell_type": "code",
      "source": [],
      "metadata": {
        "id": "sSSkFJav0heM"
      },
      "execution_count": null,
      "outputs": []
    }
  ],
  "metadata": {
    "colab": {
      "provenance": []
    },
    "kernelspec": {
      "display_name": "Python 3",
      "name": "python3"
    },
    "language_info": {
      "name": "python"
    },
    "widgets": {
      "application/vnd.jupyter.widget-state+json": {
        "a28f089f73d44a588131a0088036ea27": {
          "model_module": "@jupyter-widgets/controls",
          "model_name": "HBoxModel",
          "model_module_version": "1.5.0",
          "state": {
            "_dom_classes": [],
            "_model_module": "@jupyter-widgets/controls",
            "_model_module_version": "1.5.0",
            "_model_name": "HBoxModel",
            "_view_count": null,
            "_view_module": "@jupyter-widgets/controls",
            "_view_module_version": "1.5.0",
            "_view_name": "HBoxView",
            "box_style": "",
            "children": [
              "IPY_MODEL_e4c4517700f044219cae3552ab12ee84",
              "IPY_MODEL_90cb7df2e16042a395f0df940c11f76f",
              "IPY_MODEL_b05f85fa3d20459bb5c356d185426c40"
            ],
            "layout": "IPY_MODEL_70ae5161d91e4ae28081a516c06ced2d"
          }
        },
        "e4c4517700f044219cae3552ab12ee84": {
          "model_module": "@jupyter-widgets/controls",
          "model_name": "HTMLModel",
          "model_module_version": "1.5.0",
          "state": {
            "_dom_classes": [],
            "_model_module": "@jupyter-widgets/controls",
            "_model_module_version": "1.5.0",
            "_model_name": "HTMLModel",
            "_view_count": null,
            "_view_module": "@jupyter-widgets/controls",
            "_view_module_version": "1.5.0",
            "_view_name": "HTMLView",
            "description": "",
            "description_tooltip": null,
            "layout": "IPY_MODEL_f83aa48382a34130bb582bbd0bc6330f",
            "placeholder": "​",
            "style": "IPY_MODEL_0be09b27e68647c394706b3f86891e62",
            "value": "100%"
          }
        },
        "90cb7df2e16042a395f0df940c11f76f": {
          "model_module": "@jupyter-widgets/controls",
          "model_name": "FloatProgressModel",
          "model_module_version": "1.5.0",
          "state": {
            "_dom_classes": [],
            "_model_module": "@jupyter-widgets/controls",
            "_model_module_version": "1.5.0",
            "_model_name": "FloatProgressModel",
            "_view_count": null,
            "_view_module": "@jupyter-widgets/controls",
            "_view_module_version": "1.5.0",
            "_view_name": "ProgressView",
            "bar_style": "success",
            "description": "",
            "description_tooltip": null,
            "layout": "IPY_MODEL_98c8b5c201734048b88b8cadd95dc19e",
            "max": 200,
            "min": 0,
            "orientation": "horizontal",
            "style": "IPY_MODEL_bb29b0197f6b454eafae53e73ec813ff",
            "value": 200
          }
        },
        "b05f85fa3d20459bb5c356d185426c40": {
          "model_module": "@jupyter-widgets/controls",
          "model_name": "HTMLModel",
          "model_module_version": "1.5.0",
          "state": {
            "_dom_classes": [],
            "_model_module": "@jupyter-widgets/controls",
            "_model_module_version": "1.5.0",
            "_model_name": "HTMLModel",
            "_view_count": null,
            "_view_module": "@jupyter-widgets/controls",
            "_view_module_version": "1.5.0",
            "_view_name": "HTMLView",
            "description": "",
            "description_tooltip": null,
            "layout": "IPY_MODEL_060ac47b0c3b442fa3b052bb7aeece0b",
            "placeholder": "​",
            "style": "IPY_MODEL_050a8658501c4d0882d608411dcc1995",
            "value": " 200/200 [00:42&lt;00:00,  8.53it/s]"
          }
        },
        "70ae5161d91e4ae28081a516c06ced2d": {
          "model_module": "@jupyter-widgets/base",
          "model_name": "LayoutModel",
          "model_module_version": "1.2.0",
          "state": {
            "_model_module": "@jupyter-widgets/base",
            "_model_module_version": "1.2.0",
            "_model_name": "LayoutModel",
            "_view_count": null,
            "_view_module": "@jupyter-widgets/base",
            "_view_module_version": "1.2.0",
            "_view_name": "LayoutView",
            "align_content": null,
            "align_items": null,
            "align_self": null,
            "border": null,
            "bottom": null,
            "display": null,
            "flex": null,
            "flex_flow": null,
            "grid_area": null,
            "grid_auto_columns": null,
            "grid_auto_flow": null,
            "grid_auto_rows": null,
            "grid_column": null,
            "grid_gap": null,
            "grid_row": null,
            "grid_template_areas": null,
            "grid_template_columns": null,
            "grid_template_rows": null,
            "height": null,
            "justify_content": null,
            "justify_items": null,
            "left": null,
            "margin": null,
            "max_height": null,
            "max_width": null,
            "min_height": null,
            "min_width": null,
            "object_fit": null,
            "object_position": null,
            "order": null,
            "overflow": null,
            "overflow_x": null,
            "overflow_y": null,
            "padding": null,
            "right": null,
            "top": null,
            "visibility": null,
            "width": null
          }
        },
        "f83aa48382a34130bb582bbd0bc6330f": {
          "model_module": "@jupyter-widgets/base",
          "model_name": "LayoutModel",
          "model_module_version": "1.2.0",
          "state": {
            "_model_module": "@jupyter-widgets/base",
            "_model_module_version": "1.2.0",
            "_model_name": "LayoutModel",
            "_view_count": null,
            "_view_module": "@jupyter-widgets/base",
            "_view_module_version": "1.2.0",
            "_view_name": "LayoutView",
            "align_content": null,
            "align_items": null,
            "align_self": null,
            "border": null,
            "bottom": null,
            "display": null,
            "flex": null,
            "flex_flow": null,
            "grid_area": null,
            "grid_auto_columns": null,
            "grid_auto_flow": null,
            "grid_auto_rows": null,
            "grid_column": null,
            "grid_gap": null,
            "grid_row": null,
            "grid_template_areas": null,
            "grid_template_columns": null,
            "grid_template_rows": null,
            "height": null,
            "justify_content": null,
            "justify_items": null,
            "left": null,
            "margin": null,
            "max_height": null,
            "max_width": null,
            "min_height": null,
            "min_width": null,
            "object_fit": null,
            "object_position": null,
            "order": null,
            "overflow": null,
            "overflow_x": null,
            "overflow_y": null,
            "padding": null,
            "right": null,
            "top": null,
            "visibility": null,
            "width": null
          }
        },
        "0be09b27e68647c394706b3f86891e62": {
          "model_module": "@jupyter-widgets/controls",
          "model_name": "DescriptionStyleModel",
          "model_module_version": "1.5.0",
          "state": {
            "_model_module": "@jupyter-widgets/controls",
            "_model_module_version": "1.5.0",
            "_model_name": "DescriptionStyleModel",
            "_view_count": null,
            "_view_module": "@jupyter-widgets/base",
            "_view_module_version": "1.2.0",
            "_view_name": "StyleView",
            "description_width": ""
          }
        },
        "98c8b5c201734048b88b8cadd95dc19e": {
          "model_module": "@jupyter-widgets/base",
          "model_name": "LayoutModel",
          "model_module_version": "1.2.0",
          "state": {
            "_model_module": "@jupyter-widgets/base",
            "_model_module_version": "1.2.0",
            "_model_name": "LayoutModel",
            "_view_count": null,
            "_view_module": "@jupyter-widgets/base",
            "_view_module_version": "1.2.0",
            "_view_name": "LayoutView",
            "align_content": null,
            "align_items": null,
            "align_self": null,
            "border": null,
            "bottom": null,
            "display": null,
            "flex": null,
            "flex_flow": null,
            "grid_area": null,
            "grid_auto_columns": null,
            "grid_auto_flow": null,
            "grid_auto_rows": null,
            "grid_column": null,
            "grid_gap": null,
            "grid_row": null,
            "grid_template_areas": null,
            "grid_template_columns": null,
            "grid_template_rows": null,
            "height": null,
            "justify_content": null,
            "justify_items": null,
            "left": null,
            "margin": null,
            "max_height": null,
            "max_width": null,
            "min_height": null,
            "min_width": null,
            "object_fit": null,
            "object_position": null,
            "order": null,
            "overflow": null,
            "overflow_x": null,
            "overflow_y": null,
            "padding": null,
            "right": null,
            "top": null,
            "visibility": null,
            "width": null
          }
        },
        "bb29b0197f6b454eafae53e73ec813ff": {
          "model_module": "@jupyter-widgets/controls",
          "model_name": "ProgressStyleModel",
          "model_module_version": "1.5.0",
          "state": {
            "_model_module": "@jupyter-widgets/controls",
            "_model_module_version": "1.5.0",
            "_model_name": "ProgressStyleModel",
            "_view_count": null,
            "_view_module": "@jupyter-widgets/base",
            "_view_module_version": "1.2.0",
            "_view_name": "StyleView",
            "bar_color": null,
            "description_width": ""
          }
        },
        "060ac47b0c3b442fa3b052bb7aeece0b": {
          "model_module": "@jupyter-widgets/base",
          "model_name": "LayoutModel",
          "model_module_version": "1.2.0",
          "state": {
            "_model_module": "@jupyter-widgets/base",
            "_model_module_version": "1.2.0",
            "_model_name": "LayoutModel",
            "_view_count": null,
            "_view_module": "@jupyter-widgets/base",
            "_view_module_version": "1.2.0",
            "_view_name": "LayoutView",
            "align_content": null,
            "align_items": null,
            "align_self": null,
            "border": null,
            "bottom": null,
            "display": null,
            "flex": null,
            "flex_flow": null,
            "grid_area": null,
            "grid_auto_columns": null,
            "grid_auto_flow": null,
            "grid_auto_rows": null,
            "grid_column": null,
            "grid_gap": null,
            "grid_row": null,
            "grid_template_areas": null,
            "grid_template_columns": null,
            "grid_template_rows": null,
            "height": null,
            "justify_content": null,
            "justify_items": null,
            "left": null,
            "margin": null,
            "max_height": null,
            "max_width": null,
            "min_height": null,
            "min_width": null,
            "object_fit": null,
            "object_position": null,
            "order": null,
            "overflow": null,
            "overflow_x": null,
            "overflow_y": null,
            "padding": null,
            "right": null,
            "top": null,
            "visibility": null,
            "width": null
          }
        },
        "050a8658501c4d0882d608411dcc1995": {
          "model_module": "@jupyter-widgets/controls",
          "model_name": "DescriptionStyleModel",
          "model_module_version": "1.5.0",
          "state": {
            "_model_module": "@jupyter-widgets/controls",
            "_model_module_version": "1.5.0",
            "_model_name": "DescriptionStyleModel",
            "_view_count": null,
            "_view_module": "@jupyter-widgets/base",
            "_view_module_version": "1.2.0",
            "_view_name": "StyleView",
            "description_width": ""
          }
        }
      }
    }
  },
  "nbformat": 4,
  "nbformat_minor": 0
}